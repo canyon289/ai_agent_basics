{
 "cells": [
  {
   "cell_type": "markdown",
   "id": "0664b498-9356-4484-acf9-5980dd2db9f0",
   "metadata": {},
   "source": [
    "<img src=\"FrenchSign.jpg\" alt=\"Image description\" width=\"400\">"
   ]
  },
  {
   "cell_type": "code",
   "execution_count": 3,
   "id": "292e4012-77eb-4ea5-a008-b42933514c52",
   "metadata": {},
   "outputs": [
    {
     "name": "stdout",
     "output_type": "stream",
     "text": [
      "\"The sign says:\\n\\n**PALAIS DES GLACES** \\n\\nIt's a historic cinema in Paris!\"\n"
     ]
    }
   ],
   "source": [
    "from ollama import chat\n",
    "from ollama import ChatResponse\n",
    "from pprint import pprint\n",
    "\n",
    "model = 'gemma3:4b'\n",
    "\n",
    "def single_turn(prompt):\n",
    "    response: ChatResponse = chat(model=model, messages=[\n",
    "      {\n",
    "        'role': 'user',\n",
    "        'content': prompt,\n",
    "        'images': ['FrenchSign.jpg']\n",
    "      },\n",
    "    ])\n",
    "    return response['message']['content']\n",
    "\n",
    "prompt = \"What does this sign say?\"\n",
    "pprint(single_turn(prompt))"
   ]
  }
 ],
 "metadata": {
  "kernelspec": {
   "display_name": "Python 3 (ipykernel)",
   "language": "python",
   "name": "python3"
  },
  "language_info": {
   "codemirror_mode": {
    "name": "ipython",
    "version": 3
   },
   "file_extension": ".py",
   "mimetype": "text/x-python",
   "name": "python",
   "nbconvert_exporter": "python",
   "pygments_lexer": "ipython3",
   "version": "3.11.11"
  }
 },
 "nbformat": 4,
 "nbformat_minor": 5
}
